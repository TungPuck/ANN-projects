{
  "nbformat": 4,
  "nbformat_minor": 0,
  "metadata": {
    "colab": {
      "name": "fashion_mnist-tf-NN.ipynb",
      "provenance": []
    },
    "kernelspec": {
      "name": "python3",
      "display_name": "Python 3"
    },
    "language_info": {
      "name": "python"
    },
    "accelerator": "GPU"
  },
  "cells": [
    {
      "cell_type": "markdown",
      "metadata": {
        "id": "c8b9BUHevdhb"
      },
      "source": [
        "# Load data in tf.keras.datasets"
      ]
    },
    {
      "cell_type": "code",
      "metadata": {
        "id": "IEYmlGnevpnp"
      },
      "source": [
        "import tensorflow as tf\n",
        "from tensorflow.keras.datasets import fashion_mnist"
      ],
      "execution_count": 106,
      "outputs": []
    },
    {
      "cell_type": "code",
      "metadata": {
        "id": "ytOnDq3Gv5mt"
      },
      "source": [
        "(train_data, train_label) , (test_data, test_label) = fashion_mnist.load_data()"
      ],
      "execution_count": 107,
      "outputs": []
    },
    {
      "cell_type": "code",
      "metadata": {
        "colab": {
          "base_uri": "https://localhost:8080/"
        },
        "id": "pSXs9Bj9wMzK",
        "outputId": "b7f5d10d-42c8-4950-ca3d-b21c762cb365"
      },
      "source": [
        "train_data[0].shape, train_label[0].shape"
      ],
      "execution_count": 108,
      "outputs": [
        {
          "output_type": "execute_result",
          "data": {
            "text/plain": [
              "((28, 28), ())"
            ]
          },
          "metadata": {
            "tags": []
          },
          "execution_count": 108
        }
      ]
    },
    {
      "cell_type": "code",
      "metadata": {
        "colab": {
          "base_uri": "https://localhost:8080/"
        },
        "id": "WtBPfW-kwvhF",
        "outputId": "50b669ee-001d-42b2-8dd3-489c4c86442e"
      },
      "source": [
        "class_name = [\"T-shirt/top\", \"Trouser\", \"Pullover\", \"Dress\", \"Coat\", \"Sandal\", \"Shirt\", \"Sneaker\", \"Bag\", \"Ankle boot\"]\n",
        "class_name"
      ],
      "execution_count": 109,
      "outputs": [
        {
          "output_type": "execute_result",
          "data": {
            "text/plain": [
              "['T-shirt/top',\n",
              " 'Trouser',\n",
              " 'Pullover',\n",
              " 'Dress',\n",
              " 'Coat',\n",
              " 'Sandal',\n",
              " 'Shirt',\n",
              " 'Sneaker',\n",
              " 'Bag',\n",
              " 'Ankle boot']"
            ]
          },
          "metadata": {
            "tags": []
          },
          "execution_count": 109
        }
      ]
    },
    {
      "cell_type": "code",
      "metadata": {
        "id": "wMAEt15owV_j"
      },
      "source": [
        "import matplotlib.pyplot as plt\n",
        "import random"
      ],
      "execution_count": 110,
      "outputs": []
    },
    {
      "cell_type": "code",
      "metadata": {
        "colab": {
          "base_uri": "https://localhost:8080/",
          "height": 427
        },
        "id": "-cMQKcttx909",
        "outputId": "7cb6a128-e94e-4a1a-dd51-6a6fedefe9c3"
      },
      "source": [
        "# Visualize image\n",
        "plt.figure(figsize=(7,7))\n",
        "for i in range(4):\n",
        "  plt.subplot(2,2, i+1)\n",
        "  random_index = random.choice(range(len(train_data)))\n",
        "  plt.imshow(train_data[random_index], cmap= plt.cm.binary)\n",
        "  plt.title(class_name[train_label[random_index]])\n",
        "  plt.axis(False)\n",
        "  "
      ],
      "execution_count": 111,
      "outputs": [
        {
          "output_type": "display_data",
          "data": {
            "image/png": "[encoded data removed]",
            "text/plain": [
              "<Figure size 504x504 with 4 Axes>"
            ]
          },
          "metadata": {
            "tags": [],
            "needs_background": "light"
          }
        }
      ]
    },
    {
      "cell_type": "code",
      "metadata": {
        "id": "Cfx2k-iDyce0"
      },
      "source": [
        "# Scaling train_data & test_data\n",
        "train_data = train_data/255.\n",
        "test_data = test_data/255."
      ],
      "execution_count": 112,
      "outputs": []
    },
    {
      "cell_type": "code",
      "metadata": {
        "colab": {
          "base_uri": "https://localhost:8080/"
        },
        "id": "iKgxiKyIzOvB",
        "outputId": "8720730f-85b5-4684-d692-d123ce52f321"
      },
      "source": [
        "train_data.min(), train_data.max()"
      ],
      "execution_count": 113,
      "outputs": [
        {
          "output_type": "execute_result",
          "data": {
            "text/plain": [
              "(0.0, 1.0)"
            ]
          },
          "metadata": {
            "tags": []
          },
          "execution_count": 113
        }
      ]
    },
    {
      "cell_type": "markdown",
      "metadata": {
        "id": "bTwP0Rq00Z1z"
      },
      "source": [
        "# Build model"
      ]
    },
    {
      "cell_type": "code",
      "metadata": {
        "id": "1X7Faraf0g4T"
      },
      "source": [
        "tf.random.set_seed(42)\n",
        "\n",
        "model = tf.keras.Sequential([\n",
        "    tf.keras.layers.Flatten(input_shape = (28,28)),\n",
        "    tf.keras.layers.Dense(4, activation= \"relu\"),\n",
        "    tf.keras.layers.Dense(4, activation= \"relu\"),\n",
        "    tf.keras.layers.Dense(10, activation= \"softmax\")\n",
        "])\n",
        "\n",
        "model.compile(loss = tf.keras.losses.SparseCategoricalCrossentropy(),\n",
        "              optimizer = tf.keras.optimizers.Adam(),\n",
        "              metrics = [\"accuracy\"])"
      ],
      "execution_count": 114,
      "outputs": []
    },
    {
      "cell_type": "code",
      "metadata": {
        "colab": {
          "base_uri": "https://localhost:8080/"
        },
        "id": "BuI4foCl2D2b",
        "outputId": "d1c4b794-5723-4743-8719-0700b820eb4f"
      },
      "source": [
        "model = model.fit(train_data,\n",
        "                  train_label,\n",
        "                  epochs = 5,\n",
        "                  validation_data = (test_data, test_label),\n",
        "                  )"
      ],
      "execution_count": 115,
      "outputs": [
        {
          "output_type": "stream",
          "text": [
            "Epoch 1/5\n",
            "1875/1875 [==============================] - 4s 2ms/step - loss: 1.0348 - accuracy: 0.6474 - val_loss: 0.6937 - val_accuracy: 0.7617\n",
            "Epoch 2/5\n",
            "1875/1875 [==============================] - 4s 2ms/step - loss: 0.6376 - accuracy: 0.7757 - val_loss: 0.6400 - val_accuracy: 0.7820\n",
            "Epoch 3/5\n",
            "1875/1875 [==============================] - 4s 2ms/step - loss: 0.5942 - accuracy: 0.7914 - val_loss: 0.6247 - val_accuracy: 0.7783\n",
            "Epoch 4/5\n",
            "1875/1875 [==============================] - 4s 2ms/step - loss: 0.5750 - accuracy: 0.7979 - val_loss: 0.6078 - val_accuracy: 0.7881\n",
            "Epoch 5/5\n",
            "1875/1875 [==============================] - 4s 2ms/step - loss: 0.5641 - accuracy: 0.8006 - val_loss: 0.6169 - val_accuracy: 0.7881\n"
          ],
          "name": "stdout"
        }
      ]
    },
    {
      "cell_type": "markdown",
      "metadata": {
        "id": "UhWo2Tjl2Uoz"
      },
      "source": [
        "## Plot loss curve"
      ]
    },
    {
      "cell_type": "code",
      "metadata": {
        "id": "QLmq-4_aCF2b"
      },
      "source": [
        "def plot_loss_curse(model):\n",
        "\n",
        "  acc = model.history[\"accuracy\"]\n",
        "  val_acc = model.history[\"val_accuracy\"]\n",
        "\n",
        "  loss = model.history[\"loss\"]\n",
        "  val_loss = model.history[\"val_loss\"]\n",
        "\n",
        "  epochs = range(len(model.history[\"loss\"]))\n",
        "\n",
        "  plt.plot(epochs, acc, label =\"Training_Accuracy\" )\n",
        "  plt.plot(epochs, val_acc, label=\"Val_Accuracy\")\n",
        "  plt.title(\"Accuracy\")\n",
        "  plt.xlabel(\"Epochs\")\n",
        "  plt.legend()\n",
        "\n",
        "  plt.figure()\n",
        "  plt.plot(epochs, loss, label =\"Training_Loss\" )\n",
        "  plt.plot(epochs, val_loss, label=\"Val_Loss\")\n",
        "  plt.title(\"Loss\")\n",
        "  plt.xlabel(\"Epochs\")\n",
        "  plt.legend()"
      ],
      "execution_count": 116,
      "outputs": []
    },
    {
      "cell_type": "code",
      "metadata": {
        "colab": {
          "base_uri": "https://localhost:8080/",
          "height": 573
        },
        "id": "V5BgXq18ECqj",
        "outputId": "a646ea13-26f3-4d0f-b37a-f99e52e17bb2"
      },
      "source": [
        "plot_loss_curse(model)"
      ],
      "execution_count": 117,
      "outputs": [
        {
          "output_type": "display_data",
          "data": {
            "image/png": "[encoded data removed]",
            "text/plain": [
              "<Figure size 432x288 with 1 Axes>"
            ]
          },
          "metadata": {
            "tags": [],
            "needs_background": "light"
          }
        },
        {
          "output_type": "display_data",
          "data": {
            "image/png": "[encoded data removed]",
            "text/plain": [
              "<Figure size 432x288 with 1 Axes>"
            ]
          },
          "metadata": {
            "tags": [],
            "needs_background": "light"
          }
        }
      ]
    },
    {
      "cell_type": "markdown",
      "metadata": {
        "id": "bZ_lkwHZzZ6Q"
      },
      "source": [
        "# Improve Model\n",
        "- Using Model Callbacks find learning rate\n",
        "- Train for longer epochs"
      ]
    },
    {
      "cell_type": "code",
      "metadata": {
        "id": "cogelE4h0HAB"
      },
      "source": [
        "scheduler = tf.keras.callbacks.LearningRateScheduler(lambda epoch: 1e-3 * 10**(epoch/20))"
      ],
      "execution_count": 118,
      "outputs": []
    },
    {
      "cell_type": "code",
      "metadata": {
        "id": "MIEsUdzcFKeY"
      },
      "source": [
        "model2 = tf.keras.Sequential([\n",
        "  tf.keras.layers.Flatten(input_shape=(28,28)),\n",
        "  tf.keras.layers.Dense(4, activation=\"relu\"),\n",
        "  tf.keras.layers.Dense(4, activation=\"relu\"),\n",
        "  tf.keras.layers.Dense(10, activation=\"softmax\")\n",
        "])\n",
        "\n",
        "model2.compile(loss = tf.keras.losses.SparseCategoricalCrossentropy(),\n",
        "               optimizer = tf.keras.optimizers.Adam(),\n",
        "               metrics = [\"accuracy\"])"
      ],
      "execution_count": 119,
      "outputs": []
    },
    {
      "cell_type": "code",
      "metadata": {
        "colab": {
          "base_uri": "https://localhost:8080/"
        },
        "id": "Ahn1NSbkF0St",
        "outputId": "5ccab7a2-d8ba-4085-f73d-0853b121020f"
      },
      "source": [
        "model2_improve = model2.fit(train_data,\n",
        "                            train_label,\n",
        "                            epochs = 40,\n",
        "                            validation_data = (test_data, test_label),\n",
        "                            callbacks = [scheduler])"
      ],
      "execution_count": 120,
      "outputs": [
        {
          "output_type": "stream",
          "text": [
            "Epoch 1/40\n",
            "1875/1875 [==============================] - 5s 2ms/step - loss: 1.0966 - accuracy: 0.6275 - val_loss: 0.7959 - val_accuracy: 0.7328\n",
            "Epoch 2/40\n",
            "1875/1875 [==============================] - 4s 2ms/step - loss: 0.7023 - accuracy: 0.7552 - val_loss: 0.6633 - val_accuracy: 0.7650\n",
            "Epoch 3/40\n",
            "1875/1875 [==============================] - 4s 2ms/step - loss: 0.6127 - accuracy: 0.7889 - val_loss: 0.6119 - val_accuracy: 0.7871\n",
            "Epoch 4/40\n",
            "1875/1875 [==============================] - 4s 2ms/step - loss: 0.5765 - accuracy: 0.7993 - val_loss: 0.5886 - val_accuracy: 0.7972\n",
            "Epoch 5/40\n",
            "1875/1875 [==============================] - 4s 2ms/step - loss: 0.5570 - accuracy: 0.8056 - val_loss: 0.5806 - val_accuracy: 0.7916\n",
            "Epoch 6/40\n",
            "1875/1875 [==============================] - 4s 2ms/step - loss: 0.5400 - accuracy: 0.8106 - val_loss: 0.5792 - val_accuracy: 0.7973\n",
            "Epoch 7/40\n",
            "1875/1875 [==============================] - 4s 2ms/step - loss: 0.5304 - accuracy: 0.8130 - val_loss: 0.5443 - val_accuracy: 0.8059\n",
            "Epoch 8/40\n",
            "1875/1875 [==============================] - 4s 2ms/step - loss: 0.5209 - accuracy: 0.8160 - val_loss: 0.5504 - val_accuracy: 0.8045\n",
            "Epoch 9/40\n",
            "1875/1875 [==============================] - 4s 2ms/step - loss: 0.5157 - accuracy: 0.8171 - val_loss: 0.5512 - val_accuracy: 0.8080\n",
            "Epoch 10/40\n",
            "1875/1875 [==============================] - 4s 2ms/step - loss: 0.5114 - accuracy: 0.8201 - val_loss: 0.6104 - val_accuracy: 0.7896\n",
            "Epoch 11/40\n",
            "1875/1875 [==============================] - 4s 2ms/step - loss: 0.5158 - accuracy: 0.8175 - val_loss: 0.5272 - val_accuracy: 0.8147\n",
            "Epoch 12/40\n",
            "1875/1875 [==============================] - 4s 2ms/step - loss: 0.5085 - accuracy: 0.8201 - val_loss: 0.5706 - val_accuracy: 0.8063\n",
            "Epoch 13/40\n",
            "1875/1875 [==============================] - 4s 2ms/step - loss: 0.5104 - accuracy: 0.8198 - val_loss: 0.5340 - val_accuracy: 0.8139\n",
            "Epoch 14/40\n",
            "1875/1875 [==============================] - 4s 2ms/step - loss: 0.5091 - accuracy: 0.8199 - val_loss: 0.5522 - val_accuracy: 0.8076\n",
            "Epoch 15/40\n",
            "1875/1875 [==============================] - 4s 2ms/step - loss: 0.5128 - accuracy: 0.8184 - val_loss: 0.5575 - val_accuracy: 0.8105\n",
            "Epoch 16/40\n",
            "1875/1875 [==============================] - 4s 2ms/step - loss: 0.5167 - accuracy: 0.8184 - val_loss: 0.5224 - val_accuracy: 0.8197\n",
            "Epoch 17/40\n",
            "1875/1875 [==============================] - 4s 2ms/step - loss: 0.5130 - accuracy: 0.8196 - val_loss: 0.5355 - val_accuracy: 0.8122\n",
            "Epoch 18/40\n",
            "1875/1875 [==============================] - 4s 2ms/step - loss: 0.5206 - accuracy: 0.8164 - val_loss: 0.5256 - val_accuracy: 0.8158\n",
            "Epoch 19/40\n",
            "1875/1875 [==============================] - 4s 2ms/step - loss: 0.5208 - accuracy: 0.8165 - val_loss: 0.5650 - val_accuracy: 0.8104\n",
            "Epoch 20/40\n",
            "1875/1875 [==============================] - 4s 2ms/step - loss: 0.5295 - accuracy: 0.8136 - val_loss: 0.5483 - val_accuracy: 0.8138\n",
            "Epoch 21/40\n",
            "1875/1875 [==============================] - 4s 2ms/step - loss: 0.5368 - accuracy: 0.8119 - val_loss: 0.6024 - val_accuracy: 0.7837\n",
            "Epoch 22/40\n",
            "1875/1875 [==============================] - 4s 2ms/step - loss: 0.5350 - accuracy: 0.8140 - val_loss: 0.5629 - val_accuracy: 0.8098\n",
            "Epoch 23/40\n",
            "1875/1875 [==============================] - 4s 2ms/step - loss: 0.5499 - accuracy: 0.8084 - val_loss: 0.5880 - val_accuracy: 0.7956\n",
            "Epoch 24/40\n",
            "1875/1875 [==============================] - 4s 2ms/step - loss: 0.5544 - accuracy: 0.8077 - val_loss: 0.6778 - val_accuracy: 0.7767\n",
            "Epoch 25/40\n",
            "1875/1875 [==============================] - 4s 2ms/step - loss: 0.5649 - accuracy: 0.8026 - val_loss: 0.6366 - val_accuracy: 0.7732\n",
            "Epoch 26/40\n",
            "1875/1875 [==============================] - 4s 2ms/step - loss: 0.5762 - accuracy: 0.8012 - val_loss: 0.7493 - val_accuracy: 0.7591\n",
            "Epoch 27/40\n",
            "1875/1875 [==============================] - 4s 2ms/step - loss: 0.5964 - accuracy: 0.7958 - val_loss: 0.5759 - val_accuracy: 0.8040\n",
            "Epoch 28/40\n",
            "1875/1875 [==============================] - 4s 2ms/step - loss: 0.6072 - accuracy: 0.7919 - val_loss: 0.6004 - val_accuracy: 0.7998\n",
            "Epoch 29/40\n",
            "1875/1875 [==============================] - 4s 2ms/step - loss: 0.6253 - accuracy: 0.7867 - val_loss: 0.6776 - val_accuracy: 0.7701\n",
            "Epoch 30/40\n",
            "1875/1875 [==============================] - 4s 2ms/step - loss: 0.6445 - accuracy: 0.7815 - val_loss: 0.9161 - val_accuracy: 0.6992\n",
            "Epoch 31/40\n",
            "1875/1875 [==============================] - 4s 2ms/step - loss: 0.6672 - accuracy: 0.7761 - val_loss: 0.6692 - val_accuracy: 0.7790\n",
            "Epoch 32/40\n",
            "1875/1875 [==============================] - 4s 2ms/step - loss: 0.6943 - accuracy: 0.7711 - val_loss: 0.6649 - val_accuracy: 0.7778\n",
            "Epoch 33/40\n",
            "1875/1875 [==============================] - 4s 2ms/step - loss: 0.7601 - accuracy: 0.7391 - val_loss: 0.7442 - val_accuracy: 0.7448\n",
            "Epoch 34/40\n",
            "1875/1875 [==============================] - 4s 2ms/step - loss: 0.7697 - accuracy: 0.7420 - val_loss: 0.9414 - val_accuracy: 0.6203\n",
            "Epoch 35/40\n",
            "1875/1875 [==============================] - 4s 2ms/step - loss: 0.8952 - accuracy: 0.6721 - val_loss: 0.8341 - val_accuracy: 0.7305\n",
            "Epoch 36/40\n",
            "1875/1875 [==============================] - 4s 2ms/step - loss: 0.9339 - accuracy: 0.6630 - val_loss: 1.1147 - val_accuracy: 0.6114\n",
            "Epoch 37/40\n",
            "1875/1875 [==============================] - 4s 2ms/step - loss: 1.0552 - accuracy: 0.5793 - val_loss: 1.0766 - val_accuracy: 0.5394\n",
            "Epoch 38/40\n",
            "1875/1875 [==============================] - 4s 2ms/step - loss: 1.5833 - accuracy: 0.3127 - val_loss: 1.7194 - val_accuracy: 0.1990\n",
            "Epoch 39/40\n",
            "1875/1875 [==============================] - 4s 2ms/step - loss: 1.9090 - accuracy: 0.1812 - val_loss: 1.7306 - val_accuracy: 0.1991\n",
            "Epoch 40/40\n",
            "1875/1875 [==============================] - 4s 2ms/step - loss: 1.7437 - accuracy: 0.1976 - val_loss: 1.7087 - val_accuracy: 0.1994\n"
          ],
          "name": "stdout"
        }
      ]
    },
    {
      "cell_type": "markdown",
      "metadata": {
        "id": "FCQT55WjGAab"
      },
      "source": [
        "## Plot learning rate vs loss"
      ]
    },
    {
      "cell_type": "code",
      "metadata": {
        "colab": {
          "base_uri": "https://localhost:8080/",
          "height": 299
        },
        "id": "q3bq9AhIIxFJ",
        "outputId": "e6bba1aa-a4c6-478f-e99b-53715ff746e4"
      },
      "source": [
        "import numpy as np\n",
        "lrs = 1e-3 * (10**(np.arange(40)/20))\n",
        "plt.semilogx(lrs, model2_improve.history[\"loss\"])\n",
        "plt.xlabel(\"Learning rate\")\n",
        "plt.ylabel(\"Loss\")\n",
        "plt.title(\"Finding the ideal learning rate\");"
      ],
      "execution_count": 121,
      "outputs": [
        {
          "output_type": "display_data",
          "data": {
            "image/png": "[encoded data removed]",
            "text/plain": [
              "<Figure size 432x288 with 1 Axes>"
            ]
          },
          "metadata": {
            "tags": [],
            "needs_background": "light"
          }
        }
      ]
    },
    {
      "cell_type": "markdown",
      "metadata": {
        "id": "PzsfPhbAI_IQ"
      },
      "source": [
        "## Fit model with idea learning rate"
      ]
    },
    {
      "cell_type": "code",
      "metadata": {
        "id": "0Kv8jEh0JqIH"
      },
      "source": [
        "tf.random.set_seed(42)\n",
        "model3 = tf.keras.Sequential([\n",
        "    tf.keras.layers.Flatten(input_shape=(28,28)),\n",
        "    tf.keras.layers.Dense(4,activation=\"relu\"),\n",
        "    tf.keras.layers.Dense(4,activation=\"relu\"),\n",
        "    tf.keras.layers.Dense(10,activation=\"softmax\")\n",
        "])\n",
        "\n",
        "model3.compile(loss=tf.keras.losses.SparseCategoricalCrossentropy(),\n",
        "               optimizer=tf.keras.optimizers.Adam(0.001),\n",
        "               metrics =[\"accuracy\"])"
      ],
      "execution_count": 122,
      "outputs": []
    },
    {
      "cell_type": "code",
      "metadata": {
        "colab": {
          "base_uri": "https://localhost:8080/"
        },
        "id": "gh_ZB6ypLKgD",
        "outputId": "8b620602-8349-4dee-a77c-67121682e25f"
      },
      "source": [
        "model3_idea_lrs = model3.fit(train_data,\n",
        "                             train_label,\n",
        "                             epochs = 20,\n",
        "                             validation_data = (test_data, test_label))"
      ],
      "execution_count": 123,
      "outputs": [
        {
          "output_type": "stream",
          "text": [
            "Epoch 1/20\n",
            "1875/1875 [==============================] - 4s 2ms/step - loss: 1.0348 - accuracy: 0.6474 - val_loss: 0.6937 - val_accuracy: 0.7617\n",
            "Epoch 2/20\n",
            "1875/1875 [==============================] - 4s 2ms/step - loss: 0.6376 - accuracy: 0.7757 - val_loss: 0.6400 - val_accuracy: 0.7820\n",
            "Epoch 3/20\n",
            "1875/1875 [==============================] - 4s 2ms/step - loss: 0.5942 - accuracy: 0.7914 - val_loss: 0.6247 - val_accuracy: 0.7783\n",
            "Epoch 4/20\n",
            "1875/1875 [==============================] - 4s 2ms/step - loss: 0.5750 - accuracy: 0.7979 - val_loss: 0.6078 - val_accuracy: 0.7881\n",
            "Epoch 5/20\n",
            "1875/1875 [==============================] - 4s 2ms/step - loss: 0.5641 - accuracy: 0.8006 - val_loss: 0.6169 - val_accuracy: 0.7881\n",
            "Epoch 6/20\n",
            "1875/1875 [==============================] - 4s 2ms/step - loss: 0.5544 - accuracy: 0.8043 - val_loss: 0.5855 - val_accuracy: 0.7951\n",
            "Epoch 7/20\n",
            "1875/1875 [==============================] - 4s 2ms/step - loss: 0.5488 - accuracy: 0.8063 - val_loss: 0.6097 - val_accuracy: 0.7836\n",
            "Epoch 8/20\n",
            "1875/1875 [==============================] - 4s 2ms/step - loss: 0.5428 - accuracy: 0.8077 - val_loss: 0.5787 - val_accuracy: 0.7971\n",
            "Epoch 9/20\n",
            "1875/1875 [==============================] - 4s 2ms/step - loss: 0.5373 - accuracy: 0.8097 - val_loss: 0.5698 - val_accuracy: 0.7977\n",
            "Epoch 10/20\n",
            "1875/1875 [==============================] - 4s 2ms/step - loss: 0.5360 - accuracy: 0.8124 - val_loss: 0.5658 - val_accuracy: 0.8014\n",
            "Epoch 11/20\n",
            "1875/1875 [==============================] - 4s 2ms/step - loss: 0.5311 - accuracy: 0.8130 - val_loss: 0.5714 - val_accuracy: 0.8002\n",
            "Epoch 12/20\n",
            "1875/1875 [==============================] - 4s 2ms/step - loss: 0.5284 - accuracy: 0.8132 - val_loss: 0.5626 - val_accuracy: 0.8027\n",
            "Epoch 13/20\n",
            "1875/1875 [==============================] - 4s 2ms/step - loss: 0.5271 - accuracy: 0.8138 - val_loss: 0.5619 - val_accuracy: 0.8041\n",
            "Epoch 14/20\n",
            "1875/1875 [==============================] - 4s 2ms/step - loss: 0.5249 - accuracy: 0.8143 - val_loss: 0.5718 - val_accuracy: 0.7991\n",
            "Epoch 15/20\n",
            "1875/1875 [==============================] - 4s 2ms/step - loss: 0.5231 - accuracy: 0.8148 - val_loss: 0.5706 - val_accuracy: 0.8024\n",
            "Epoch 16/20\n",
            "1875/1875 [==============================] - 4s 2ms/step - loss: 0.5203 - accuracy: 0.8162 - val_loss: 0.5731 - val_accuracy: 0.8023\n",
            "Epoch 17/20\n",
            "1875/1875 [==============================] - 4s 2ms/step - loss: 0.5191 - accuracy: 0.8176 - val_loss: 0.5594 - val_accuracy: 0.8030\n",
            "Epoch 18/20\n",
            "1875/1875 [==============================] - 4s 2ms/step - loss: 0.5176 - accuracy: 0.8157 - val_loss: 0.5582 - val_accuracy: 0.8053\n",
            "Epoch 19/20\n",
            "1875/1875 [==============================] - 4s 2ms/step - loss: 0.5156 - accuracy: 0.8169 - val_loss: 0.5644 - val_accuracy: 0.8007\n",
            "Epoch 20/20\n",
            "1875/1875 [==============================] - 4s 2ms/step - loss: 0.5146 - accuracy: 0.8177 - val_loss: 0.5660 - val_accuracy: 0.8075\n"
          ],
          "name": "stdout"
        }
      ]
    },
    {
      "cell_type": "code",
      "metadata": {
        "colab": {
          "base_uri": "https://localhost:8080/"
        },
        "id": "3vT83-YUOzeH",
        "outputId": "cc1332a2-017d-4b54-9541-8de0f13753ea"
      },
      "source": [
        "model3.summary()"
      ],
      "execution_count": 124,
      "outputs": [
        {
          "output_type": "stream",
          "text": [
            "Model: \"sequential_10\"\n",
            "_________________________________________________________________\n",
            "Layer (type)                 Output Shape              Param #   \n",
            "=================================================================\n",
            "flatten_10 (Flatten)         (None, 784)               0         \n",
            "_________________________________________________________________\n",
            "dense_30 (Dense)             (None, 4)                 3140      \n",
            "_________________________________________________________________\n",
            "dense_31 (Dense)             (None, 4)                 20        \n",
            "_________________________________________________________________\n",
            "dense_32 (Dense)             (None, 10)                50        \n",
            "=================================================================\n",
            "Total params: 3,210\n",
            "Trainable params: 3,210\n",
            "Non-trainable params: 0\n",
            "_________________________________________________________________\n"
          ],
          "name": "stdout"
        }
      ]
    },
    {
      "cell_type": "markdown",
      "metadata": {
        "id": "ZQyQsU7vL9rl"
      },
      "source": [
        "## Plot loss curve model idea learning rate"
      ]
    },
    {
      "cell_type": "code",
      "metadata": {
        "colab": {
          "base_uri": "https://localhost:8080/",
          "height": 573
        },
        "id": "Wg9kO_1bMVTb",
        "outputId": "d7fbe58a-06d1-4ac0-f0d7-7bf2251ebb29"
      },
      "source": [
        "plot_loss_curse(model3_idea_lrs)"
      ],
      "execution_count": 125,
      "outputs": [
        {
          "output_type": "display_data",
          "data": {
            "image/png": "[encoded data removed]",
            "text/plain": [
              "<Figure size 432x288 with 1 Axes>"
            ]
          },
          "metadata": {
            "tags": [],
            "needs_background": "light"
          }
        },
        {
          "output_type": "display_data",
          "data": {
            "image/png": "[encoded data removed]",
            "text/plain": [
              "<Figure size 432x288 with 1 Axes>"
            ]
          },
          "metadata": {
            "tags": [],
            "needs_background": "light"
          }
        }
      ]
    },
    {
      "cell_type": "markdown",
      "metadata": {
        "id": "_B8gpglAMYSB"
      },
      "source": [
        "## Make prediction"
      ]
    },
    {
      "cell_type": "code",
      "metadata": {
        "colab": {
          "base_uri": "https://localhost:8080/"
        },
        "id": "Kr9AIufGMmEU",
        "outputId": "4ca77e11-fe48-48ac-aacc-ea5b9a8e7370"
      },
      "source": [
        "probs = model3.predict(test_data)\n",
        "probs[:5]"
      ],
      "execution_count": 126,
      "outputs": [
        {
          "output_type": "execute_result",
          "data": {
            "text/plain": [
              "array([[8.5630038e-11, 3.5361923e-13, 2.6633796e-05, 4.6356057e-08,\n",
              "        5.0949642e-05, 9.6118979e-02, 8.1778097e-08, 9.1868639e-02,\n",
              "        4.0605105e-03, 8.0787414e-01],\n",
              "       [3.4278555e-06, 1.2899412e-16, 9.5989150e-01, 2.0516218e-07,\n",
              "        1.5329195e-02, 2.4532527e-13, 2.4142891e-02, 1.1383710e-28,\n",
              "        6.3271867e-04, 4.4789640e-08],\n",
              "       [6.1063060e-05, 9.9657673e-01, 4.3867310e-08, 3.3405882e-03,\n",
              "        1.3249612e-05, 1.4383545e-21, 8.2791003e-06, 7.3238853e-18,\n",
              "        5.4811920e-08, 4.9225709e-14],\n",
              "       [7.5031370e-05, 9.9053699e-01, 4.2528902e-07, 9.2231650e-03,\n",
              "        1.3623273e-04, 1.8276510e-18, 2.6808373e-05, 4.8125292e-14,\n",
              "        1.4521634e-06, 2.2211717e-11],\n",
              "       [7.2189897e-02, 1.5495709e-06, 2.5566906e-01, 1.0363110e-02,\n",
              "        4.3541320e-02, 1.1069409e-13, 6.1693019e-01, 6.7544158e-23,\n",
              "        1.3049176e-03, 1.2140382e-09]], dtype=float32)"
            ]
          },
          "metadata": {
            "tags": []
          },
          "execution_count": 126
        }
      ]
    },
    {
      "cell_type": "code",
      "metadata": {
        "colab": {
          "base_uri": "https://localhost:8080/"
        },
        "id": "Ruasn6-5Muv4",
        "outputId": "7e6b111c-b824-4716-f5a6-450be322b8b6"
      },
      "source": [
        "# See the first example\n",
        "probs[0].argmax(), class_name[probs[0].argmax()]"
      ],
      "execution_count": 127,
      "outputs": [
        {
          "output_type": "execute_result",
          "data": {
            "text/plain": [
              "(9, 'Ankle boot')"
            ]
          },
          "metadata": {
            "tags": []
          },
          "execution_count": 127
        }
      ]
    },
    {
      "cell_type": "code",
      "metadata": {
        "colab": {
          "base_uri": "https://localhost:8080/"
        },
        "id": "7AiXd4HWNMWs",
        "outputId": "295d4f55-dd5c-4a9d-8c57-e2499705ed52"
      },
      "source": [
        "# Convert all to label\n",
        "preds = probs.argmax(axis=1)\n",
        "preds[:5]"
      ],
      "execution_count": 128,
      "outputs": [
        {
          "output_type": "execute_result",
          "data": {
            "text/plain": [
              "array([9, 2, 1, 1, 6])"
            ]
          },
          "metadata": {
            "tags": []
          },
          "execution_count": 128
        }
      ]
    },
    {
      "cell_type": "code",
      "metadata": {
        "id": "XvT-BBGINnA9"
      },
      "source": [
        "# Confusion Matrix\n",
        "from sklearn.metrics import confusion_matrix"
      ],
      "execution_count": 129,
      "outputs": []
    },
    {
      "cell_type": "code",
      "metadata": {
        "colab": {
          "base_uri": "https://localhost:8080/"
        },
        "id": "FAsRYEHZN4AD",
        "outputId": "5e4f32f0-ecf7-4061-8883-9a68e018523a"
      },
      "source": [
        "confusion_matrix(y_true=test_label,\n",
        "                 y_pred = preds)"
      ],
      "execution_count": 130,
      "outputs": [
        {
          "output_type": "execute_result",
          "data": {
            "text/plain": [
              "array([[696,   8,  25,  87,   9,   5, 160,   0,  10,   0],\n",
              "       [  2, 939,   2,  35,   9,   0,  13,   0,   0,   0],\n",
              "       [ 19,   2, 656,  10, 188,   0, 110,   0,  15,   0],\n",
              "       [ 39,  10,  10, 819,  55,   0,  47,   1,  19,   0],\n",
              "       [  0,   0,  95,  23, 800,   0,  73,   0,   7,   2],\n",
              "       [  0,   0,   1,   0,   0, 894,   0,  60,   7,  38],\n",
              "       [106,   4, 158,  57, 159,   1, 499,   0,  16,   0],\n",
              "       [  0,   0,   0,   0,   0,  31,   0, 936,   0,  33],\n",
              "       [  4,   1,  38,  15,   8,  12,   9,   5, 906,   2],\n",
              "       [  0,   0,   1,   0,   2,  15,   0,  51,   1, 930]])"
            ]
          },
          "metadata": {
            "tags": []
          },
          "execution_count": 130
        }
      ]
    },
    {
      "cell_type": "markdown",
      "metadata": {
        "id": "I0V962UbOGXp"
      },
      "source": [
        "## Visualize result"
      ]
    },
    {
      "cell_type": "code",
      "metadata": {
        "id": "jpl_eivOOR_7"
      },
      "source": [
        "def plot_random_image(model, images, label, classname):\n",
        "  index = random.randint(0, len(images))\n",
        "  image = images[i]\n",
        "  probs = model3.predict(image.reshape(1,28,28))\n",
        "  pred_label = classname[probs.argmax()]\n",
        "  true_label = label[i]\n",
        "\n",
        "  plt.imshow(image, cmap = plt.cm.binary)\n",
        "  plt.xlabel(f\"Predict: {pred_label} => True: {classname[true_label]}, Predict: {tf.round(100*tf.reduce_max(probs), 2)}%\")"
      ],
      "execution_count": 131,
      "outputs": []
    },
    {
      "cell_type": "code",
      "metadata": {
        "colab": {
          "base_uri": "https://localhost:8080/",
          "height": 279
        },
        "id": "1ihqFuc4Oi1S",
        "outputId": "fa9adc80-10c5-49a7-861f-bfad7590d325"
      },
      "source": [
        "plot_random_image(model = model3, \n",
        "                  images = test_data,\n",
        "                  label = test_label,\n",
        "                  classname = class_name)"
      ],
      "execution_count": 132,
      "outputs": [
        {
          "output_type": "display_data",
          "data": {
            "image/png": "[encoded data removed]",
            "text/plain": [
              "<Figure size 432x288 with 1 Axes>"
            ]
          },
          "metadata": {
            "tags": [],
            "needs_background": "light"
          }
        }
      ]
    },
    {
      "cell_type": "markdown",
      "metadata": {
        "id": "MlZYn3HVQrr0"
      },
      "source": [
        "# Save Model"
      ]
    },
    {
      "cell_type": "code",
      "metadata": {
        "colab": {
          "base_uri": "https://localhost:8080/"
        },
        "id": "kV428n86Ui13",
        "outputId": "6ae4c1a8-ab42-4a87-da96-6183ecabb003"
      },
      "source": [
        "# Save in google drive\n",
        "import os\n",
        "save_dir = \"/content/drive/MyDrive/tensorflow_project/ANN/fashion_mnist-tf-NN\"\n",
        "\n",
        "model3.save(save_dir)"
      ],
      "execution_count": 135,
      "outputs": [
        {
          "output_type": "stream",
          "text": [
            "INFO:tensorflow:Assets written to: /content/drive/MyDrive/tensorflow_project/ANN/fashion_mnist-tf-NN/assets\n"
          ],
          "name": "stdout"
        }
      ]
    }
  ]
}